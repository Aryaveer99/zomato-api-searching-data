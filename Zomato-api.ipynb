{
 "cells": [
  {
   "cell_type": "code",
   "execution_count": 1,
   "metadata": {},
   "outputs": [],
   "source": [
    "import requests\n",
    "from requests.auth import HTTPBasicAuth"
   ]
  },
  {
   "cell_type": "code",
   "execution_count": 2,
   "metadata": {},
   "outputs": [
    {
     "name": "stdout",
     "output_type": "stream",
     "text": [
      "73\n"
     ]
    }
   ],
   "source": [
    "##Fetch the cuisine_id of ‘Mexican’ cuisine\n",
    "header = {\"user-key\":\"439e01d80e72b4a6914b656d1042b027\"}\n",
    "params = {\"city_id\":12}\n",
    "response = requests.get(\"https://developers.zomato.com/api/v2.1/cuisines\", headers=header, params=params)\n",
    "\n",
    "data = response.json()\n",
    "data=data[\"cuisines\"]\n",
    "for d in data:\n",
    "    if d[\"cuisine\"][\"cuisine_name\"] == \"Mexican\":\n",
    "        print(d[\"cuisine\"][\"cuisine_id\"])\n",
    "        break"
   ]
  },
  {
   "cell_type": "code",
   "execution_count": 7,
   "metadata": {},
   "outputs": [
    {
     "name": "stdout",
     "output_type": "stream",
     "text": [
      "subzone 104\n"
     ]
    }
   ],
   "source": [
    "##Fetch the entityid and entitytype of place Connaught Place.\n",
    "header = {\"user-key\":\"439e01d80e72b4a6914b656d1042b027\"}\n",
    "params = {\"query\":\"Connaught Place\"}\n",
    "response = requests.get(\"https://developers.zomato.com/api/v2.1/locations\", headers=header, params=params)\n",
    "\n",
    "data = response.json()\n",
    "data = data[\"location_suggestions\"][0]\n",
    "print(data[\"entity_type\"],data[\"entity_id\"])"
   ]
  },
  {
   "cell_type": "code",
   "execution_count": 6,
   "metadata": {},
   "outputs": [
    {
     "name": "stdout",
     "output_type": "stream",
     "text": [
      "Odeon Social 4.7 18246991\n",
      "38 Barracks 4.7 18241537\n",
      "Connaught Clubhouse 4.6 19295106\n",
      "Detroit 4.5 18625812\n",
      "Xero Degrees 4.5 18729557\n",
      "Ministry Of Beer 4.5 18418277\n",
      "Chili's Grill & Bar 4.5 18537536\n",
      "The Darzi Bar & Kitchen 4.4 18423151\n",
      "Station Bar 4.4 18851371\n",
      "The Luggage Room Kitchen And Bar 4.4 18337893\n"
     ]
    }
   ],
   "source": [
    "##Fetch the top 10 best-rated restaurant serving ‘Mexican’ cuisine present in Connaught Place.\n",
    "header = {\"user-key\":\"439e01d80e72b4a6914b656d1042b027\"}\n",
    "start=0\n",
    "ans={}\n",
    "while True:\n",
    "    params = {\"entity_id\":104, \"cuisines\":\"73\", \"entity_type\":\"subzone\", \"start\":start}\n",
    "    response = requests.get(\"https://developers.zomato.com/api/v2.1/search\", headers=header, params=params)\n",
    "\n",
    "    data = response.json()\n",
    "    results_found = data[\"results_found\"]\n",
    "    results_start = data[\"results_start\"]\n",
    "    results_shown = data[\"results_shown\"]\n",
    "    data = data[\"restaurants\"]\n",
    "\n",
    "\n",
    "    for d in data:\n",
    "        d = d[\"restaurant\"]\n",
    "    \n",
    "        rating = d[\"user_rating\"][\"aggregate_rating\"]\n",
    "        votes = d[\"user_rating\"][\"votes\"]\n",
    "        ans[d[\"name\"]] = [rating, d[\"id\"]]\n",
    "                \n",
    "            \n",
    "    if results_start+results_shown == results_found:\n",
    "        break\n",
    "    start = results_start+results_shown\n",
    "\n",
    "ans = sorted(ans.items(), key = lambda k:k[1][0], reverse=True)    \n",
    "i=0\n",
    "for a in ans:\n",
    "    if i==10:\n",
    "        break\n",
    "    print(a[0],a[1][0],a[1][1])\n",
    "    i+=1"
   ]
  },
  {
   "cell_type": "code",
   "execution_count": 8,
   "metadata": {},
   "outputs": [
    {
     "name": "stdout",
     "output_type": "stream",
     "text": [
      "6\n"
     ]
    }
   ],
   "source": [
    "##Fetch the category id of category type ‘Cafes’\n",
    "header = {\"user-key\":\"439e01d80e72b4a6914b656d1042b027\"}\n",
    "params = {\"entity_id\":104, \"cuisines\":\"73\", \"entity_type\":\"subzone\", \"start\":start, \"q\":\"Mexican\"}\n",
    "response = requests.get(\"https://developers.zomato.com/api/v2.1/categories\", headers=header)\n",
    "data = response.json()\n",
    "data = data[\"categories\"]\n",
    "for d in data:\n",
    "    d=d[\"categories\"]\n",
    "    if d[\"name\"]==\"Cafes\":\n",
    "        print(d[\"id\"])\n",
    "        break"
   ]
  },
  {
   "cell_type": "code",
   "execution_count": 9,
   "metadata": {},
   "outputs": [
    {
     "name": "stdout",
     "output_type": "stream",
     "text": [
      "Xero Degrees 4.5 18729557\n",
      "The Art House Bar n Cafe 4.3 18863766\n",
      "Chaayos 4.0 18237315\n",
      "Cafe Delhi Heights 4.0 18579363\n",
      "Cafe Coffee Day - The Square 3.8 303034\n"
     ]
    }
   ],
   "source": [
    "##Fetch the best-rated restaurant for ‘Mexican’ cuisine with category type ‘ Cafes’ present in Connaught Place\n",
    "import requests\n",
    "from requests.auth import HTTPBasicAuth\n",
    "header = {\"user-key\":\"439e01d80e72b4a6914b656d1042b027\"}\n",
    "start=0\n",
    "ans={}\n",
    "while True:\n",
    "    params = {\"entity_id\":104, \"cuisines\":\"73\", \"entity_type\":\"subzone\", \"start\":start, \"category\":\"6\"}\n",
    "    response = requests.get(\"https://developers.zomato.com/api/v2.1/search\", headers=header, params=params)\n",
    "\n",
    "    data = response.json()\n",
    "    results_found = data[\"results_found\"]\n",
    "    results_start = data[\"results_start\"]\n",
    "    results_shown = data[\"results_shown\"]\n",
    "    data = data[\"restaurants\"]\n",
    "\n",
    "\n",
    "    for d in data:\n",
    "        d = d[\"restaurant\"]\n",
    "    \n",
    "        rating = d[\"user_rating\"][\"aggregate_rating\"]\n",
    "        votes = d[\"user_rating\"][\"votes\"]\n",
    "        ans[d[\"name\"]] = [rating, d[\"id\"]]\n",
    "                \n",
    "            \n",
    "    if results_start+results_shown == results_found:\n",
    "        break\n",
    "    start = results_start+results_shown\n",
    "\n",
    "ans = sorted(ans.items(), key = lambda k:k[1][0], reverse=True)    \n",
    "i=0\n",
    "for a in ans:\n",
    "    if i==10:\n",
    "        break\n",
    "    print(a[0],a[1][0],a[1][1])\n",
    "    i+=1"
   ]
  },
  {
   "cell_type": "code",
   "execution_count": 12,
   "metadata": {},
   "outputs": [
    {
     "name": "stdout",
     "output_type": "stream",
     "text": [
      "Pritisha 5 Xero Degrees has quite a many outlets in Delhi, and I went to their CP outlet. Though it was small, yet there's no match for it. We had to wait for about 10-15 minutes for the table but it was all worth the wait.  I had a lot of things at Xero, none of them was expensive. The fries were so cheesy yet amazing, had their spl. mini sliders which were so colourful and instaworthy.  The shake I had was oreo one which was too good! The service was promptous and so, I recommend you that 5/5!\n",
      "\n",
      "Yogya Mendiratta 5 Xero degrees is one of the most \"value for money\" outlet i have come across in my life. It has a lot to offer to its customers. I personally liked its shakes and sliders a lot. The place is more fancier than it seems from outside. All in all, it is a must visit cafe for all the students out there.\n",
      "\n",
      "Kumar Kislay 5 Great food at low price. Must try!!\n",
      "\n",
      "Prajwal Singla 5 I and my friend ordered Chocolate Brownie shake and Red Velvet shake and peri peri fries. I really loved chocolate brownie shake. Brownie was soft and amazing in taste. Shake was too good. Cheesy Peri Peri fries were amazing. The staff here is very polite and friendly.\n",
      "\n",
      "Ishita Kalsi 5 \n",
      "\n"
     ]
    }
   ],
   "source": [
    "##Fetch the latest review of the best-rated restaurant for ‘Mexican’ cuisine with Category type\n",
    "##‘Cafes’ present in Connaught Place \n",
    "header = {\"user-key\":\"439e01d80e72b4a6914b656d1042b027\"}\n",
    "res_id = 18729557\n",
    "params = {\"res_id\":res_id}\n",
    "response = requests.get(\"https://developers.zomato.com/api/v2.1/reviews\", headers=header, params=params)\n",
    "data = response.json()\n",
    "data = data[\"user_reviews\"]\n",
    "for d in data:\n",
    "    d=d[\"review\"]\n",
    "    print(d[\"user\"][\"name\"], d[\"rating\"], d[\"review_text\"])\n",
    "    print()"
   ]
  },
  {
   "cell_type": "code",
   "execution_count": 13,
   "metadata": {},
   "outputs": [
    {
     "name": "stdout",
     "output_type": "stream",
     "text": [
      "4.2\n",
      "1400\n",
      "North Indian, Continental, Italian, Chinese\n",
      "G-15/B, Vijay Nagar, New Delhi\n"
     ]
    }
   ],
   "source": [
    "##Fetch the details of restaurant 736 AD\n",
    "## Open and read data file as specified in the question\n",
    "## Print the required output in given format\n",
    "header = {\"user-key\":\"439e01d80e72b4a6914b656d1042b027\"}\n",
    "params={\"res_id\":18241524}\n",
    "response = requests.get(\"https://developers.zomato.com/api/v2.1/restaurant\", params=params, headers=header)\n",
    "data = response.json()\n",
    "print(data[\"user_rating\"][\"aggregate_rating\"])\n",
    "print(data[\"average_cost_for_two\"])\n",
    "print(data[\"cuisines\"])\n",
    "print(data[\"location\"][\"address\"])"
   ]
  },
  {
   "cell_type": "code",
   "execution_count": 14,
   "metadata": {},
   "outputs": [
    {
     "name": "stdout",
     "output_type": "stream",
     "text": [
      "no\n"
     ]
    }
   ],
   "source": [
    "##Find out whether online table reservation is supported in 736 AD or not \n",
    "header = {\"user-key\":\"439e01d80e72b4a6914b656d1042b027\"}\n",
    "params={\"res_id\":18241524}\n",
    "response = requests.get(\"https://developers.zomato.com/api/v2.1/restaurant\", params=params, headers=header)\n",
    "data = response.json()\n",
    "\n",
    "if data[\"has_table_booking\"]:\n",
    "    print(\"yes\")\n",
    "else:\n",
    "    print(\"no\")"
   ]
  },
  {
   "cell_type": "code",
   "execution_count": 15,
   "metadata": {},
   "outputs": [
    {
     "name": "stdout",
     "output_type": "stream",
     "text": [
      "Arjita Jhingran 2 The service is very slow. The food was also not up to the mark.\n",
      "\n",
      "Comidadios 5 \n",
      "\n",
      "Hungry Fingers 4 Ambience is so beautiful and food was damn tasty here. I liked this paneer and capsicum pizza. It was so tasty and super cheesy. Crust was also not hard. But it's a expensive place.\n",
      "\n",
      "Lalit Thadani 5 Chicken tikka. Here the beauty is the chicken well mixed in the dahi with red masala which gives a wonderful taste. Well served with onions and green chutney\n",
      "\n",
      "HONEY SHARMA 5 The place has ancient theme and has great ambience! They have rooftop sitting also and they also provide smoking area! But they guys are lacking in food taste and their hospitality! The staff must be professional enough and food taste and quality can be improved!\n",
      "\n"
     ]
    }
   ],
   "source": [
    "##Fetch the latest review of restaurant 736 AD\n",
    "## Open and read data file as specified in the question\n",
    "## Print the required output in given format\n",
    "import requests \n",
    "header = {\"user-key\":\"439e01d80e72b4a6914b656d1042b027\"}\n",
    "params={\"res_id\":18241524}\n",
    "response = requests.get(\"https://developers.zomato.com/api/v2.1/reviews\", headers=header, params=params)\n",
    "data = response.json()\n",
    "data = data[\"user_reviews\"]\n",
    "for d in data:\n",
    "    d=d[\"review\"]\n",
    "    print(d[\"user\"][\"name\"], d[\"rating\"], d[\"review_text\"])\n",
    "    print()"
   ]
  },
  {
   "cell_type": "code",
   "execution_count": null,
   "metadata": {},
   "outputs": [],
   "source": []
  }
 ],
 "metadata": {
  "kernelspec": {
   "display_name": "Python 3",
   "language": "python",
   "name": "python3"
  },
  "language_info": {
   "codemirror_mode": {
    "name": "ipython",
    "version": 3
   },
   "file_extension": ".py",
   "mimetype": "text/x-python",
   "name": "python",
   "nbconvert_exporter": "python",
   "pygments_lexer": "ipython3",
   "version": "3.7.3"
  }
 },
 "nbformat": 4,
 "nbformat_minor": 2
}
